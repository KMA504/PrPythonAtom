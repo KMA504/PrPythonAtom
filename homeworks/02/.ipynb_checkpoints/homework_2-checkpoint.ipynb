{
 "cells": [
  {
   "cell_type": "code",
   "execution_count": null,
   "metadata": {},
   "outputs": [],
   "source": []
  },
  {
   "cell_type": "markdown",
   "metadata": {},
   "source": [
    "На лекции были вопросы про форматирование строк.\n",
    "тут показаны примеры форматирования строк. если хотите красиво форматировать - вам сюда:\n",
    "https://pyformat.info/"
   ]
  },
  {
   "cell_type": "markdown",
   "metadata": {},
   "source": [
    "# 1"
   ]
  },
  {
   "cell_type": "markdown",
   "metadata": {},
   "source": [
    "Разминка."
   ]
  },
  {
   "cell_type": "raw",
   "metadata": {},
   "source": [
    "Вы уже имеете представление о том что такое декоратор и даже попробовали написать свой\n",
    "\n",
    "Давайте чтобы убедиться в полезности этой вещи, возьмем не так быстро вычисляющуюся фукнцию\n",
    "например рекурсивное (понятно что это не самый эффективный вариант) вычисление n-го числа фибоначчи."
   ]
  },
  {
   "cell_type": "code",
   "execution_count": 1,
   "metadata": {
    "ExecuteTime": {
     "end_time": "2018-10-05T16:06:04.951826Z",
     "start_time": "2018-10-05T16:06:04.916437Z"
    }
   },
   "outputs": [],
   "source": [
    "def fib(n):\n",
    "    if n==0:\n",
    "        return 0\n",
    "    if n in [1, 2]:\n",
    "        return 1\n",
    "    return fib(n-2)+fib(n-1)"
   ]
  },
  {
   "cell_type": "code",
   "execution_count": 2,
   "metadata": {
    "ExecuteTime": {
     "end_time": "2018-10-05T16:06:07.681697Z",
     "start_time": "2018-10-05T16:06:05.164927Z"
    }
   },
   "outputs": [
    {
     "name": "stdout",
     "output_type": "stream",
     "text": [
      "Wall time: 6.01 s\n"
     ]
    },
    {
     "data": {
      "text/plain": [
       "9227465"
      ]
     },
     "execution_count": 2,
     "metadata": {},
     "output_type": "execute_result"
    }
   ],
   "source": [
    "%%time\n",
    "fib(35)"
   ]
  },
  {
   "cell_type": "markdown",
   "metadata": {
    "ExecuteTime": {
     "end_time": "2018-10-05T06:31:08.569105Z",
     "start_time": "2018-10-05T06:31:08.543005Z"
    }
   },
   "source": [
    "##### Задание \n",
    "Оберните fib в кеширующий декоратор.\n",
    "\n",
    "\n",
    "!hint для облегчения жизни - и проканает в домашке в python есть модуль functools, у него есть готовый кеширующий декоратор!)"
   ]
  },
  {
   "cell_type": "code",
   "execution_count": 3,
   "metadata": {
    "ExecuteTime": {
     "end_time": "2018-10-05T16:06:07.688402Z",
     "start_time": "2018-10-05T16:06:07.684090Z"
    }
   },
   "outputs": [],
   "source": [
    "def cache_decorator(func):\n",
    "    cache = {}\n",
    "    def cache_storage(arg):\n",
    "        if arg in cache:\n",
    "            return cache[arg]\n",
    "        else:\n",
    "            cache[arg] = func(arg)\n",
    "            return cache[arg]\n",
    "    return cache_storage"
   ]
  },
  {
   "cell_type": "code",
   "execution_count": 4,
   "metadata": {
    "ExecuteTime": {
     "end_time": "2018-10-05T16:07:48.837819Z",
     "start_time": "2018-10-05T16:07:48.823711Z"
    }
   },
   "outputs": [],
   "source": [
    "@cache_decorator\n",
    "def fib(n):\n",
    "    if n==0:\n",
    "        return 0\n",
    "    if n in [1, 2]:\n",
    "        return 1\n",
    "    return fib(n-2)+fib(n-1)"
   ]
  },
  {
   "cell_type": "code",
   "execution_count": 5,
   "metadata": {
    "ExecuteTime": {
     "end_time": "2018-10-05T16:07:56.392761Z",
     "start_time": "2018-10-05T16:07:56.381550Z"
    }
   },
   "outputs": [
    {
     "name": "stdout",
     "output_type": "stream",
     "text": [
      "Wall time: 0 ns\n"
     ]
    },
    {
     "data": {
      "text/plain": [
       "9227465"
      ]
     },
     "execution_count": 5,
     "metadata": {},
     "output_type": "execute_result"
    }
   ],
   "source": [
    "%%time\n",
    "fib(35)"
   ]
  },
  {
   "cell_type": "markdown",
   "metadata": {},
   "source": [
    "Сравните время исполнения. Если оно изменилось - объясните почему? "
   ]
  },
  {
   "cell_type": "markdown",
   "metadata": {},
   "source": [
    "> Ваш ответ: декоратор кэширует результаты работы функции, то есть фактически если мы уже запускали функцию с каким-то аргументом, то декоратор это запомнил и просто вернёт из своего хранилища ответ, а не будет заново всё пересчитывать, поэтому время исполнения и уменьшилось"
   ]
  },
  {
   "cell_type": "markdown",
   "metadata": {},
   "source": [
    "______"
   ]
  },
  {
   "cell_type": "markdown",
   "metadata": {},
   "source": [
    "# 2"
   ]
  },
  {
   "cell_type": "markdown",
   "metadata": {},
   "source": [
    "##### Задание. \n",
    "\n",
    "Напишите простой декоратор который проверяет, что входной аргумент больше -1, и в случае если меньше, то кидает какое нибудь исключение (Exception)"
   ]
  },
  {
   "cell_type": "code",
   "execution_count": 6,
   "metadata": {
    "ExecuteTime": {
     "end_time": "2018-10-05T16:48:32.909816Z",
     "start_time": "2018-10-05T16:48:32.880146Z"
    }
   },
   "outputs": [],
   "source": [
    "def fib(n):\n",
    "    if n==0:\n",
    "        return 0\n",
    "    if n in [1, 2]:\n",
    "        return 1\n",
    "    return fib(n-2)+fib(n-1)\n",
    "\n",
    "# TODO внимание - не используйте  предыдущие обернутые в декоратор функции. \n",
    "# копипастните код."
   ]
  },
  {
   "cell_type": "code",
   "execution_count": 7,
   "metadata": {
    "ExecuteTime": {
     "end_time": "2018-10-05T16:48:35.827499Z",
     "start_time": "2018-10-05T16:48:33.307489Z"
    }
   },
   "outputs": [
    {
     "name": "stdout",
     "output_type": "stream",
     "text": [
      "Wall time: 5.97 s\n"
     ]
    },
    {
     "data": {
      "text/plain": [
       "9227465"
      ]
     },
     "execution_count": 7,
     "metadata": {},
     "output_type": "execute_result"
    }
   ],
   "source": [
    "%%time\n",
    "fib(35)"
   ]
  },
  {
   "cell_type": "code",
   "execution_count": 8,
   "metadata": {
    "ExecuteTime": {
     "end_time": "2018-10-05T16:48:35.836582Z",
     "start_time": "2018-10-05T16:48:35.831911Z"
    }
   },
   "outputs": [],
   "source": [
    "def simple_decorator(func):\n",
    "    def decor_f(arg):\n",
    "        if arg <= -1:\n",
    "            raise TypeError\n",
    "        else:\n",
    "            return func(arg)\n",
    "    return decor_f"
   ]
  },
  {
   "cell_type": "code",
   "execution_count": 9,
   "metadata": {
    "ExecuteTime": {
     "end_time": "2018-10-05T16:48:35.853090Z",
     "start_time": "2018-10-05T16:48:35.838896Z"
    }
   },
   "outputs": [],
   "source": [
    "@simple_decorator\n",
    "def fib(n):\n",
    "    if n==0:\n",
    "        return 0\n",
    "    if n in [1, 2]:\n",
    "        return 1\n",
    "    return fib(n-2)+fib(n-1)"
   ]
  },
  {
   "cell_type": "code",
   "execution_count": 10,
   "metadata": {},
   "outputs": [
    {
     "ename": "TypeError",
     "evalue": "",
     "output_type": "error",
     "traceback": [
      "\u001b[1;31m---------------------------------------------------------------------------\u001b[0m",
      "\u001b[1;31mTypeError\u001b[0m                                 Traceback (most recent call last)",
      "\u001b[1;32m<ipython-input-10-673c4d72cb80>\u001b[0m in \u001b[0;36m<module>\u001b[1;34m()\u001b[0m\n\u001b[1;32m----> 1\u001b[1;33m \u001b[0mfib\u001b[0m\u001b[1;33m(\u001b[0m\u001b[1;33m-\u001b[0m\u001b[1;36m1\u001b[0m\u001b[1;33m)\u001b[0m\u001b[1;33m\u001b[0m\u001b[0m\n\u001b[0m",
      "\u001b[1;32m<ipython-input-8-7b0a7cc28240>\u001b[0m in \u001b[0;36mdecor_f\u001b[1;34m(arg)\u001b[0m\n\u001b[0;32m      2\u001b[0m     \u001b[1;32mdef\u001b[0m \u001b[0mdecor_f\u001b[0m\u001b[1;33m(\u001b[0m\u001b[0marg\u001b[0m\u001b[1;33m)\u001b[0m\u001b[1;33m:\u001b[0m\u001b[1;33m\u001b[0m\u001b[0m\n\u001b[0;32m      3\u001b[0m         \u001b[1;32mif\u001b[0m \u001b[0marg\u001b[0m \u001b[1;33m<=\u001b[0m \u001b[1;33m-\u001b[0m\u001b[1;36m1\u001b[0m\u001b[1;33m:\u001b[0m\u001b[1;33m\u001b[0m\u001b[0m\n\u001b[1;32m----> 4\u001b[1;33m             \u001b[1;32mraise\u001b[0m \u001b[0mTypeError\u001b[0m\u001b[1;33m\u001b[0m\u001b[0m\n\u001b[0m\u001b[0;32m      5\u001b[0m         \u001b[1;32melse\u001b[0m\u001b[1;33m:\u001b[0m\u001b[1;33m\u001b[0m\u001b[0m\n\u001b[0;32m      6\u001b[0m             \u001b[1;32mreturn\u001b[0m \u001b[0mfunc\u001b[0m\u001b[1;33m(\u001b[0m\u001b[0marg\u001b[0m\u001b[1;33m)\u001b[0m\u001b[1;33m\u001b[0m\u001b[0m\n",
      "\u001b[1;31mTypeError\u001b[0m: "
     ]
    }
   ],
   "source": [
    "fib(-1)"
   ]
  },
  {
   "cell_type": "code",
   "execution_count": 11,
   "metadata": {
    "ExecuteTime": {
     "end_time": "2018-10-05T16:48:40.687261Z",
     "start_time": "2018-10-05T16:48:35.855650Z"
    }
   },
   "outputs": [
    {
     "name": "stdout",
     "output_type": "stream",
     "text": [
      "Wall time: 9.94 s\n"
     ]
    },
    {
     "data": {
      "text/plain": [
       "9227465"
      ]
     },
     "execution_count": 11,
     "metadata": {},
     "output_type": "execute_result"
    }
   ],
   "source": [
    "%%time\n",
    "fib(35)"
   ]
  },
  {
   "cell_type": "markdown",
   "metadata": {},
   "source": [
    "Сравните время исполнения. Если оно изменилось - объясните почему? "
   ]
  },
  {
   "cell_type": "markdown",
   "metadata": {},
   "source": [
    "> Ваш ответ: время работы увеличилось в связи с тем, что каждый раз при вызове функции (а вызывается она у нас многократно в связи с рекурсией!) затрачивается время на обработку (проверку) декоратором входного аргумента на предмет того, чтоб он был больше -1, то есть фактически время работы функции увеличивается на многократную работу декоратора"
   ]
  },
  {
   "cell_type": "markdown",
   "metadata": {},
   "source": [
    "_____"
   ]
  },
  {
   "cell_type": "markdown",
   "metadata": {},
   "source": [
    "# 3"
   ]
  },
  {
   "cell_type": "markdown",
   "metadata": {},
   "source": [
    "ОФФТОП: На лекции были вопросы про форматирование строк.\n",
    "тут показаны примеры форматирования строк. если хотите красиво форматировать - вам сюда:\n",
    "https://pyformat.info/"
   ]
  },
  {
   "cell_type": "raw",
   "metadata": {},
   "source": [
    "Модулем в Python называется любой файл с программой. Модули можно объединять в пакеты.\n",
    "Пакеты - это просто способ структурирования пространств имен модулей на основе файловой системы.\n",
    "Временами полезно держать все в порядке и декомпозировано."
   ]
  },
  {
   "cell_type": "raw",
   "metadata": {},
   "source": [
    "my_python_functions/\n",
    "│  \n",
    "├── __init__.py\n",
    "│   \n",
    "├──  math_functions/\n",
    "│      ├──     __init__.py\n",
    "│      ├──    vector_functions.py\n",
    "│      └──    matrix_functions.py\n",
    "│        \n",
    "└──  other_functions/\n",
    "      ├──    __init__.py\n",
    "      └──    string.py"
   ]
  },
  {
   "cell_type": "raw",
   "metadata": {
    "ExecuteTime": {
     "end_time": "2018-10-05T08:31:40.359626Z",
     "start_time": "2018-10-05T08:31:40.348753Z"
    }
   },
   "source": [
    "Тут пример некоторого пакета my_python_functions в котором есть мат. фукнции и другие функции.\n",
    "\n",
    "в каждой из директорий лежит (обычно пустой) файл __init__.py, \n",
    "видя __init__.py интерпретатор понимает что каталог my_python_functions содержит пакет с модулями.\n",
    "\n",
    "в такой организации проще понимать что где находится\n",
    "\n",
    "Например у нас есть модуль vector_functions.py со своим пространством имен (набор переменных, функций и тд), \n",
    "У нас на уровень выше my_python_functions (рядом с этой папкой) лежит Jupyter_notebook.ipynb файл.\n",
    "В этом случае мы в наш ноутбук можем импортировать некоторые функции из пакета my_python_functions\n",
    "следующей командой\n",
    "\n",
    "from my_python_functions.math_functions.vector_functions import dot as vector_multiplication\n",
    "\n"
   ]
  },
  {
   "cell_type": "markdown",
   "metadata": {},
   "source": [
    "_______"
   ]
  },
  {
   "cell_type": "markdown",
   "metadata": {},
   "source": [
    "##### Задание:\n"
   ]
  },
  {
   "cell_type": "raw",
   "metadata": {},
   "source": [
    "\n",
    "Создайте пакет my_python_functions и с папкой fib_functions \n",
    "Нужно положить туда модуль my_functions.py функцию из задания выше (со всеми импортами) fib c кэшом и вызовать эту функцию в ноутбуке.\n",
    "\n",
    "my_python_functions/\n",
    "│  \n",
    "├── __init__.py\n",
    "│   \n",
    "└── fib_functions/\n",
    "      ├──     __init__.py\n",
    "      └──    my_functions.py\n",
    "        "
   ]
  },
  {
   "cell_type": "code",
   "execution_count": 12,
   "metadata": {
    "ExecuteTime": {
     "end_time": "2018-10-05T16:20:53.653528Z",
     "start_time": "2018-10-05T16:20:53.645655Z"
    }
   },
   "outputs": [],
   "source": [
    "from my_python_functions.fib_functions.my_function import fib"
   ]
  },
  {
   "cell_type": "code",
   "execution_count": 13,
   "metadata": {
    "ExecuteTime": {
     "end_time": "2018-10-05T16:20:54.041957Z",
     "start_time": "2018-10-05T16:20:54.032618Z"
    }
   },
   "outputs": [
    {
     "name": "stdout",
     "output_type": "stream",
     "text": [
      "Wall time: 0 ns\n"
     ]
    },
    {
     "data": {
      "text/plain": [
       "9227465"
      ]
     },
     "execution_count": 13,
     "metadata": {},
     "output_type": "execute_result"
    }
   ],
   "source": [
    "%%time\n",
    "fib(35)"
   ]
  },
  {
   "cell_type": "markdown",
   "metadata": {},
   "source": [
    "_________---"
   ]
  },
  {
   "cell_type": "markdown",
   "metadata": {},
   "source": [
    "# 4"
   ]
  },
  {
   "cell_type": "raw",
   "metadata": {},
   "source": [
    "Теперь попрактикуемся с классами и файлами\n",
    "\n",
    "создайте еще один каталог writer в котором будет теперь уже не пустой __init__.py\n",
    "\n",
    "\n",
    "```\n",
    "from .file_writer import FileWriter\n",
    "__all__ = [\"FileWriter\"]\n",
    "```\n",
    "\n",
    "// Обратите внимание! В отличие от ноутбука в .py файлах нужно прописывать относительные пути через .\n",
    "\n",
    "\n",
    "в __init__.py в прописали в переменной __all__  то, что должно будет вывестись в случае если из модуля импортировать все\n",
    "командой *\n",
    "\n",
    "Например:\n",
    "from my_python_functions.writer import *\n",
    "\n",
    "https://docs.python.org/3/tutorial/modules.html#importing-from-a-package"
   ]
  },
  {
   "cell_type": "raw",
   "metadata": {},
   "source": [
    "Вот так должна выглядеть теперь новая структура"
   ]
  },
  {
   "cell_type": "raw",
   "metadata": {},
   "source": [
    "my_python_functions/\n",
    "│  \n",
    "├── __init__.py\n",
    "│   \n",
    "├── fib_functions/\n",
    "│     ├──    __init__.py\n",
    "│     └──    my_functions.py\n",
    "│         \n",
    "└── writer\n",
    "      ├──    __init__.py\n",
    "      └──    file_writer.py"
   ]
  },
  {
   "cell_type": "raw",
   "metadata": {
    "ExecuteTime": {
     "end_time": "2018-10-05T08:49:51.532736Z",
     "start_time": "2018-10-05T08:49:51.495558Z"
    }
   },
   "source": [
    "в file_writer.py нужно положить класс FileWriter который:\n",
    "\n",
    "- при иницилизации должен принимать на вход строку с путем до некоторого файла.\n",
    "(файл может не сущестовать но должна быть проверка что существует директория по указанному пути)\n",
    "\n",
    "- должен иметь свойство path с getter, setter и deliter \n",
    "(сделайте такую же проверку в сеттере что в новом  path существует директория)\n",
    "\n",
    "- у класса должен быть метод - распечатай файл (print_file)\n",
    "\n",
    "- у класса должен быть метод ДОзаписать в файл строку, но только через контекстный менеджер \n",
    "(т.е. добавить в конец если файл существует, и если такого файла нет, то создать его и записать вначало)\n",
    "\n",
    "- имел бы метод сохранения созданного экземпляра класса в пикл_файл (ниже пример 2)\n",
    "- имел бы классовый метод загрузки экземпляра класса из пикл_файла (ниже пример 2)\n",
    "\n",
    "\n",
    "Примечания:\n",
    "    \n",
    "1) для работы с файловой системой вам потребуется стандартный модуль os\n",
    "( https://docs.python.org/3.5/library/os.html )\n",
    "\n",
    "2) Python позволяет сериализовать и десирализовать объекты \n",
    "(то есть просто представить объект в виде набора байтов и обратно)\n",
    "https://pythonworld.ru/moduli/modul-pickle.html\n",
    "\n",
    "Оффтоп:\n",
    "Использовать пикл может быть полезно когда у вас есть какой то созданный объект (например экземпляр класса) и \n",
    "вы хотите его сохранить, а потом спустя время загрузить и продолжить с ним работу.\n",
    "\n",
    "\n",
    "P.S. И да. прокрутите чуток вниз. там есть шаблончик класса"
   ]
  },
  {
   "cell_type": "code",
   "execution_count": null,
   "metadata": {},
   "outputs": [],
   "source": []
  },
  {
   "cell_type": "code",
   "execution_count": 14,
   "metadata": {
    "ExecuteTime": {
     "end_time": "2018-10-05T08:46:30.880860Z",
     "start_time": "2018-10-05T08:46:30.869995Z"
    },
    "scrolled": true
   },
   "outputs": [],
   "source": [
    "from my_python_functions.writer import *\n",
    "\n",
    "# то же самое что и \n",
    "# from my_python_functions.writer.file_writer import FileWriter\n",
    "# тк в writer только один класс"
   ]
  },
  {
   "cell_type": "raw",
   "metadata": {},
   "source": [
    "Пример работы file writer"
   ]
  },
  {
   "cell_type": "code",
   "execution_count": 15,
   "metadata": {
    "ExecuteTime": {
     "end_time": "2018-10-05T08:49:01.195466Z",
     "start_time": "2018-10-05T08:49:01.190722Z"
    }
   },
   "outputs": [],
   "source": [
    "a = FileWriter('./new_file.txt')"
   ]
  },
  {
   "cell_type": "code",
   "execution_count": 16,
   "metadata": {
    "ExecuteTime": {
     "end_time": "2018-10-05T08:49:01.514132Z",
     "start_time": "2018-10-05T08:49:01.509457Z"
    }
   },
   "outputs": [],
   "source": [
    "with a as fw:\n",
    "    fw.write('im here!')"
   ]
  },
  {
   "cell_type": "code",
   "execution_count": 17,
   "metadata": {
    "ExecuteTime": {
     "end_time": "2018-10-05T08:49:01.903699Z",
     "start_time": "2018-10-05T08:49:01.893237Z"
    }
   },
   "outputs": [],
   "source": [
    "s = !more \"new_file.txt\"\n",
    "s=s[0]\n",
    "assert 'im here!' == s\n",
    "# те у кого винда и анаконда. скажите - эта штука работает?"
   ]
  },
  {
   "cell_type": "code",
   "execution_count": 18,
   "metadata": {
    "ExecuteTime": {
     "end_time": "2018-10-05T08:49:02.385619Z",
     "start_time": "2018-10-05T08:49:02.378590Z"
    }
   },
   "outputs": [],
   "source": [
    "a.save_yourself('./me.pkl') # сохранили экземпляр класса FileWriter"
   ]
  },
  {
   "cell_type": "code",
   "execution_count": 19,
   "metadata": {
    "ExecuteTime": {
     "end_time": "2018-10-05T08:49:02.939603Z",
     "start_time": "2018-10-05T08:49:02.932518Z"
    }
   },
   "outputs": [],
   "source": [
    "b = FileWriter.load_file_writer('./me.pkl')  # а теперь снова его загрузили"
   ]
  },
  {
   "cell_type": "code",
   "execution_count": 20,
   "metadata": {
    "ExecuteTime": {
     "end_time": "2018-10-05T08:49:03.372651Z",
     "start_time": "2018-10-05T08:49:03.369712Z"
    }
   },
   "outputs": [],
   "source": [
    "assert b.path == './new_file.txt' # видим что это и правда наш экземпляр"
   ]
  },
  {
   "cell_type": "code",
   "execution_count": 21,
   "metadata": {
    "ExecuteTime": {
     "end_time": "2018-10-05T08:49:03.791643Z",
     "start_time": "2018-10-05T08:49:03.787180Z"
    }
   },
   "outputs": [],
   "source": [
    "with b as fw:\n",
    "    fw.write('im here!')"
   ]
  },
  {
   "cell_type": "code",
   "execution_count": 22,
   "metadata": {
    "ExecuteTime": {
     "end_time": "2018-10-05T08:49:04.192234Z",
     "start_time": "2018-10-05T08:49:04.173732Z"
    }
   },
   "outputs": [
    {
     "name": "stdout",
     "output_type": "stream",
     "text": [
      "im here!im here!\n"
     ]
    }
   ],
   "source": [
    "s = !more \"new_file.txt\"\n",
    "s = s[0]\n",
    "print(s)\n",
    "assert 'im here!im here!' == s"
   ]
  },
  {
   "cell_type": "raw",
   "metadata": {},
   "source": [
    "Как должен выглядеть класс FileWriter"
   ]
  },
  {
   "cell_type": "code",
   "execution_count": null,
   "metadata": {},
   "outputs": [],
   "source": [
    "import os\n",
    "import pickle as pkl\n",
    "\n",
    "class FileWriter:\n",
    "    \n",
    "    def __init__(self, path):\n",
    "        \"\"\"path - путь до файла\"\"\"\n",
    "        if self._check_path(path):\n",
    "            self._path = path\n",
    "            self.file = None\n",
    "        \n",
    "    @property\n",
    "    def path(self):\n",
    "        return self._path\n",
    "    \n",
    "    @path.setter\n",
    "    def path(self, new_path):\n",
    "        if self._check_path(new_path):\n",
    "            self._path=new_path\n",
    "        else:\n",
    "            raise Exception('Bad path!')\n",
    "    \n",
    "    @path.getter\n",
    "    def path(self):\n",
    "        return self._path\n",
    "    \n",
    "    @path.deleter\n",
    "    def path(self):\n",
    "        del self._path\n",
    "    \n",
    "    def _check_path(self, path):\n",
    "        return os.path.exists(os.path.split(os.path.abspath('path'))[0])\n",
    "    \n",
    "    def print_file(self):\n",
    "        with open(self.path, 'r') as f_obj:\n",
    "            print(f_obj.read())     \n",
    "    \n",
    "    def write(self, some_string):\n",
    "        with open(self.path, 'a') as f_obj:\n",
    "            f_obj.write(some_string)\n",
    "    \n",
    "    def save_yourself(self, file_name):\n",
    "        with open(file_name, 'wb') as my_f:\n",
    "            return pkl.dump(self, my_f)\n",
    "    \n",
    "    def __enter__(self):\n",
    "        self.file = open(self.path, 'a')\n",
    "        return self.file\n",
    "    \n",
    "    def __exit__(self, exc_type, exc_val, exc_tb):\n",
    "        self.file.close()\n",
    "        self.file = None\n",
    "        if exc_val:\n",
    "            raise\n",
    "    \n",
    "    @classmethod\n",
    "    def load_file_writer(cls, pickle_file):\n",
    "        with open(pickle_file, 'rb') as obj:\n",
    "            return pkl.load(obj)\n",
    "\n",
    "    # \n",
    "    # возможно что то еще.\n",
    "    # что намеренно упущенно. например что то для контекстного менеджера."
   ]
  },
  {
   "cell_type": "code",
   "execution_count": null,
   "metadata": {},
   "outputs": [],
   "source": []
  },
  {
   "cell_type": "code",
   "execution_count": null,
   "metadata": {},
   "outputs": [],
   "source": []
  },
  {
   "cell_type": "markdown",
   "metadata": {},
   "source": [
    "##### Реализовать подобие двоичной кучи ( max и min heap )\n",
    "\n",
    "Класс должен на вход принимать список чисел и иметь методы\n",
    "\n",
    "- extract_maximum / extract_minimum - извлечь максимум / минимум\n",
    "- add                               - добавить элемент"
   ]
  },
  {
   "cell_type": "code",
   "execution_count": 23,
   "metadata": {
    "ExecuteTime": {
     "end_time": "2018-10-05T16:40:30.434092Z",
     "start_time": "2018-10-05T16:40:30.426396Z"
    }
   },
   "outputs": [],
   "source": [
    "# возможно понадобится при написании, а если нет. то знайте что есть такой модуль.\n",
    "\n",
    "import operator\n",
    "\n",
    "# встроенный модуль с набором различных операторов"
   ]
  },
  {
   "cell_type": "code",
   "execution_count": 24,
   "metadata": {
    "ExecuteTime": {
     "end_time": "2018-10-05T16:40:30.918682Z",
     "start_time": "2018-10-05T16:40:30.907769Z"
    }
   },
   "outputs": [
    {
     "name": "stdout",
     "output_type": "stream",
     "text": [
      "1 < 3 \t True\n",
      "5 < 9 \t True\n",
      "1 < 99 \t True\n",
      "1000 < 9 is \t False\n"
     ]
    }
   ],
   "source": [
    "new_less_than_operator = operator.lt\n",
    "\n",
    "print('1 < 3 \\t', new_less_than_operator(1, 3))\n",
    "print('5 < 9 \\t', new_less_than_operator(1, 5))\n",
    "print('1 < 99 \\t', new_less_than_operator(1, 99))\n",
    "print('1000 < 9 is \\t', new_less_than_operator(1000, 9))"
   ]
  },
  {
   "cell_type": "code",
   "execution_count": 25,
   "metadata": {
    "ExecuteTime": {
     "end_time": "2018-10-05T16:40:31.793542Z",
     "start_time": "2018-10-05T16:40:31.782355Z"
    }
   },
   "outputs": [
    {
     "name": "stdout",
     "output_type": "stream",
     "text": [
      "1 > 3 \t False\n",
      "5 > 9 \t False\n",
      "1 > 99 \t False\n",
      "1000 > 9 is \t True\n"
     ]
    }
   ],
   "source": [
    "new_greater_than_operator = operator.gt\n",
    "# Same as a>b.\n",
    "\n",
    "print('1 > 3 \\t', new_greater_than_operator(1, 3))\n",
    "print('5 > 9 \\t', new_greater_than_operator(1, 5))\n",
    "print('1 > 99 \\t', new_greater_than_operator(1, 99))\n",
    "print('1000 > 9 is \\t', new_greater_than_operator(1000, 9))"
   ]
  },
  {
   "cell_type": "markdown",
   "metadata": {},
   "source": [
    "_______"
   ]
  },
  {
   "cell_type": "code",
   "execution_count": 26,
   "metadata": {},
   "outputs": [],
   "source": [
    "import math as m\n",
    "class Heap:\n",
    "    \n",
    "    def __init__(self, array, mmheap):\n",
    "        self.array = array[:]\n",
    "        self.is_max_heap = mmheap\n",
    "        self.comparator = None\n",
    "        if self.is_max_heap==False:\n",
    "            self.great=operator.lt\n",
    "            self.less=operator.ge\n",
    "        else:\n",
    "            self.great=operator.gt\n",
    "            self.less=operator.le\n",
    "        self._build_heap()\n",
    "                    \n",
    "    def add(self, elem_with_priority):\n",
    "        #print('new add ', elem_with_priority)\n",
    "        self.array.append(elem_with_priority)\n",
    "        length=len(self.array)-1\n",
    "        #print(length, int(m.ceil(length/2.))-1)\n",
    "        #print(self.array[int(m.ceil(length/2.))-1], self.array[length])\n",
    "        while length>0 and self.less(self.array[int(m.ceil(length/2.))-1], self.array[length]):\n",
    "            #self.show_tree()\n",
    "            self.array[length], self.array[int(m.ceil(length/2.))-1]=self.array[int(m.ceil(length/2.))-1], self.array[length]\n",
    "            length=int(m.ceil(length/2.))-1\n",
    "       \n",
    "    def _build_heap(self):\n",
    "        size=len(self.array)-1\n",
    "        for i in range(0, size//2+1)[::-1]:\n",
    "            self._shift_down(i)\n",
    "    \n",
    "    def _shift_down(self, i):\n",
    "        #self.show_tree()\n",
    "        left = 2*i+1\n",
    "        right = 2*i+2\n",
    "        largest=i\n",
    "        size=len(self.array)-1\n",
    "        if left<=size and self.great(self.array[left], self.array[largest]):\n",
    "            largest=left\n",
    "        if right<=size  and self.great(self.array[right], self.array[largest]):\n",
    "            largest=right\n",
    "        if largest!=i:\n",
    "            self.array[i], self.array[largest]=self.array[largest], self.array[i]\n",
    "            self._shift_down(largest)\n",
    "        \n",
    "    \n",
    "    def show_tree(self, total_width=33, fill=' '):\n",
    "        # метод для поможет отлаживаться\n",
    "        \n",
    "        tree = self.array\n",
    "        \n",
    "        import math\n",
    "        from io import StringIO\n",
    "        output = StringIO()\n",
    "        last_row = -1\n",
    "        for i, n in enumerate(tree):\n",
    "            if i:\n",
    "                row = int(math.floor(math.log(i+1, 2)))\n",
    "            else:\n",
    "                row = 0\n",
    "            if row != last_row:\n",
    "                output.write('\\n')\n",
    "            columns = 2**row\n",
    "            col_width = int(math.floor((total_width * 1.0) / columns))\n",
    "            output.write(str(n).center(col_width, fill))\n",
    "            last_row = row\n",
    "        print (output.getvalue())\n",
    "        print ('-' * total_width)\n",
    "        print()"
   ]
  },
  {
   "cell_type": "code",
   "execution_count": 27,
   "metadata": {
    "ExecuteTime": {
     "end_time": "2018-10-05T15:19:19.314780Z",
     "start_time": "2018-10-05T15:19:19.197384Z"
    }
   },
   "outputs": [],
   "source": [
    "class MaxHeap(Heap):\n",
    "    \n",
    "    def __init__(self, array):\n",
    "        super(MaxHeap, self).__init__(array, True)\n",
    "        self.is_max_heap=True\n",
    "        \n",
    "    def extract_maximum(self):\n",
    "        max_el=self.array[0]\n",
    "        self.array[0]=self.array[len(self.array)-1]\n",
    "        self.array=self.array[:len(self.array)-1]\n",
    "        self._shift_down(0)\n",
    "        return max_el\n",
    "    \n",
    "    \n",
    "class MinHeap(Heap):\n",
    "    \n",
    "    def __init__(self, array):\n",
    "        super(MinHeap, self).__init__(array, False)\n",
    "        self.is_max_heap=False\n",
    "        \n",
    "    def extract_minimum(self):\n",
    "        min_el=self.array[0]\n",
    "        self.array[0]=self.array[len(self.array)-1]\n",
    "        self.array=self.array[:len(self.array)-1]\n",
    "        self._shift_down(0)\n",
    "        return min_el"
   ]
  },
  {
   "cell_type": "markdown",
   "metadata": {},
   "source": [
    "#### Проверь себя - тесты\n",
    "\n",
    "##### Если они не нравятся - можно написать свои."
   ]
  },
  {
   "cell_type": "code",
   "execution_count": 28,
   "metadata": {
    "ExecuteTime": {
     "end_time": "2018-10-05T14:15:38.934602Z",
     "start_time": "2018-10-05T14:15:38.928068Z"
    }
   },
   "outputs": [],
   "source": [
    "import random\n",
    "\n",
    "# модуль который поможет нам генерировать псевдо-случайные числа\n",
    "# пример тут\n",
    "# https://docs.python.org/3/library/random.html?highlight=random#module-random"
   ]
  },
  {
   "cell_type": "markdown",
   "metadata": {},
   "source": [
    "##### Поглядим на макс кучу в бою"
   ]
  },
  {
   "cell_type": "code",
   "execution_count": 29,
   "metadata": {
    "ExecuteTime": {
     "end_time": "2018-10-05T14:15:39.231210Z",
     "start_time": "2018-10-05T14:15:39.219766Z"
    }
   },
   "outputs": [
    {
     "name": "stdout",
     "output_type": "stream",
     "text": [
      "\n",
      "                18               \n",
      "       16              12       \n",
      "   14      12      9       8    \n",
      " 0   12  3   3   1   0  \n",
      "---------------------------------\n",
      "\n"
     ]
    }
   ],
   "source": [
    "some_list = [random.randint(0, 20) for i in range(13)]\n",
    "h = MaxHeap(some_list)\n",
    "h.show_tree()\n",
    "\n",
    "# Проверим что макс куча всегда правильно вытаскивает максимум.\n",
    "\n",
    "for next_max in sorted(some_list, reverse=True):\n",
    "    max_ = h.extract_maximum()\n",
    "    assert max_ == next_max, 'ooops! heap doesnt return max - element {} {}'.format(max_, next_max)"
   ]
  },
  {
   "cell_type": "markdown",
   "metadata": {},
   "source": [
    "##### Убедимся что мин куча работает"
   ]
  },
  {
   "cell_type": "code",
   "execution_count": 30,
   "metadata": {
    "ExecuteTime": {
     "end_time": "2018-10-05T14:15:39.423901Z",
     "start_time": "2018-10-05T14:15:39.411011Z"
    }
   },
   "outputs": [
    {
     "name": "stdout",
     "output_type": "stream",
     "text": [
      "\n",
      "                3                \n",
      "       5               7        \n",
      "   12      9       7       13   \n",
      " 15  20  15  16  10  15 \n",
      "---------------------------------\n",
      "\n"
     ]
    }
   ],
   "source": [
    "some_list = [random.randint(0, 20) for i in range(13)]\n",
    "\n",
    "h = MinHeap(some_list)\n",
    "h.show_tree()\n",
    "\n",
    "# Проверим что мин куча всегда правильно вытаскивает минимум.\n",
    "\n",
    "for next_max in sorted(some_list, reverse=False):\n",
    "    max_ = h.extract_minimum()\n",
    "    assert max_ == next_max, 'oooups! heap doesnt return min - element {} {}'.format(max_, next_max)"
   ]
  },
  {
   "cell_type": "markdown",
   "metadata": {},
   "source": [
    "##### Проверим что куча работает как очередь с приоритетами - будем добавлять новые элементы, но она все равно будет возвращать то что нужно"
   ]
  },
  {
   "cell_type": "code",
   "execution_count": 31,
   "metadata": {
    "ExecuteTime": {
     "end_time": "2018-10-05T14:15:56.520524Z",
     "start_time": "2018-10-05T14:15:56.490431Z"
    }
   },
   "outputs": [
    {
     "name": "stdout",
     "output_type": "stream",
     "text": [
      "\n",
      "                20               \n",
      "       18              15       \n",
      "   12      14      14      14   \n",
      "---------------------------------\n",
      "\n",
      "\n",
      "                30               \n",
      "       20              27       \n",
      "   18      15      15      14   \n",
      " 8   12  14  8   14  -5  10 -13 \n",
      "1 \n",
      "---------------------------------\n",
      "\n"
     ]
    }
   ],
   "source": [
    "# заведем макс кучу\n",
    "some_list = [random.randint(10, 20) for i in range(7)]\n",
    "h = MaxHeap(some_list)\n",
    "h.show_tree()\n",
    "\n",
    "# добавим элементов с разным приоритетом\n",
    "some_list_2 = [random.randint(-20, 40) for i in range(9)]\n",
    "[h.add(i) for i in some_list_2]\n",
    "h.show_tree()\n",
    "merged_list = some_list + some_list_2\n",
    "\n",
    "# проверим что всегда макс элемент это макс элемент\n",
    "sorted_merged_list = sorted(merged_list, reverse=True)\n",
    "for i, next_max in enumerate(sorted_merged_list):\n",
    "    max_ = h.extract_maximum()\n",
    "    assert max_ == next_max, 'oooups! heap doesnt return max - element {} {}'.format(max_, next_max)"
   ]
  },
  {
   "cell_type": "code",
   "execution_count": 32,
   "metadata": {
    "ExecuteTime": {
     "end_time": "2018-10-05T14:16:16.697986Z",
     "start_time": "2018-10-05T14:16:16.628955Z"
    }
   },
   "outputs": [
    {
     "name": "stdout",
     "output_type": "stream",
     "text": [
      "\n",
      "                12               \n",
      "       16              13       \n",
      "   19      19      20      13   \n",
      "---------------------------------\n",
      "\n",
      "\n",
      "               -18               \n",
      "       -9             -17       \n",
      "   16      12      -2     -15   \n",
      " 19  17  19  17  20  13  13  14 \n",
      "19\n",
      "---------------------------------\n",
      "\n"
     ]
    }
   ],
   "source": [
    "# заведем мин_кучу\n",
    "some_list = [random.randint(10, 20) for i in range(7)]\n",
    "h = MinHeap(some_list)\n",
    "h.show_tree()\n",
    "\n",
    "# добавим элементов с разным приоритетом\n",
    "some_list_2 = [random.randint(-20, 40) for i in range(9)]\n",
    "[h.add(i) for i in some_list_2]\n",
    "h.show_tree()\n",
    "merged_list = some_list + some_list_2\n",
    "\n",
    "# проверим что всегда минимальный элемент это минимальный элемент\n",
    "sorted_merged_list = sorted(merged_list, reverse=False)\n",
    "for i, next_max in enumerate(sorted_merged_list):\n",
    "    max_ = h.extract_minimum()\n",
    "    assert max_ == next_max, 'oooups! heap doesnt return max - element {} {}'.format(max_, next_max)"
   ]
  },
  {
   "cell_type": "markdown",
   "metadata": {},
   "source": [
    "______"
   ]
  },
  {
   "cell_type": "code",
   "execution_count": null,
   "metadata": {},
   "outputs": [],
   "source": []
  }
 ],
 "metadata": {
  "kernelspec": {
   "display_name": "Python 3",
   "language": "python",
   "name": "python3"
  },
  "language_info": {
   "codemirror_mode": {
    "name": "ipython",
    "version": 3
   },
   "file_extension": ".py",
   "mimetype": "text/x-python",
   "name": "python",
   "nbconvert_exporter": "python",
   "pygments_lexer": "ipython3",
   "version": "3.6.5"
  }
 },
 "nbformat": 4,
 "nbformat_minor": 2
}
